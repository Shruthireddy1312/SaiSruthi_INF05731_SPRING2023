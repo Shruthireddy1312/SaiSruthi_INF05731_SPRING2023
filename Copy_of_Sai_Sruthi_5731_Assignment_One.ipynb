{
  "cells": [
    {
      "cell_type": "markdown",
      "metadata": {
        "id": "view-in-github"
      },
      "source": [
        "<a href=\"https://colab.research.google.com/github/unt-iialab/INFO5731_Spring2020/blob/master/Assignments/INFO5731_Assignment_One.ipynb\" target=\"_parent\"><img src=\"https://colab.research.google.com/assets/colab-badge.svg\" alt=\"Open In Colab\"/></a>"
      ]
    },
    {
      "cell_type": "markdown",
      "metadata": {
        "id": "Ryk8D1Q4Wsrp"
      },
      "source": [
        "# **INFO5731 Assignment One**"
      ]
    },
    {
      "cell_type": "markdown",
      "metadata": {
        "id": "90_NR8c5XGWc"
      },
      "source": [
        "# Question 1\n",
        "\n",
        "(20 points). Write a Python program to generate 12 random numbers between 1 and 100. Sort the list of numbers in ascending order and print it out. Sort the list of numbers in descending order and print it out. Calculate the average for the group and print it out."
      ]
    },
    {
      "cell_type": "code",
      "execution_count": 1,
      "metadata": {
        "colab": {
          "base_uri": "https://localhost:8080/"
        },
        "id": "5QX6bJjGWXY9",
        "outputId": "de9c448a-ff67-4b97-dc36-9482ce243a68"
      },
      "outputs": [
        {
          "output_type": "stream",
          "name": "stdout",
          "text": [
            "[14, 33, 84, 17, 58, 76, 88, 93, 21, 11, 85, 31]\n",
            "[11, 14, 17, 21, 31, 33, 58, 76, 84, 85, 88, 93]\n",
            "[93, 88, 85, 84, 76, 58, 33, 31, 21, 17, 14, 11]\n",
            "Average is 50.916666666666664\n"
          ]
        }
      ],
      "source": [
        "import random\n",
        "numbers=random.sample(range(1,101),12)\n",
        "ascending_order=sorted(numbers)\n",
        "descending_order=sorted(numbers,reverse=True)\n",
        "print(numbers)\n",
        "print(ascending_order)\n",
        "print(descending_order)\n",
        "print(\"Average is\",sum(numbers)/len(numbers))\n",
        "\n"
      ]
    },
    {
      "cell_type": "markdown",
      "metadata": {
        "id": "1F_PZdH9Sh49"
      },
      "source": [
        "# Question 2\n",
        "(25 points). Write a program that will do the following string formatting tasks:\n",
        "\n",
        "(1) Ask the user to enter two sentences.\n",
        "\n",
        "(2) Make each sentence into a list. Each element in the list should correspond to a word in the sentence. For example, if the sentence is \"Alas! Am I alive? This is my first python program\", the program should print out ['Alas, '!', 'Am', 'I', 'alive, '?', 'This', 'is', 'my', 'first', 'python', 'program'].\n",
        "\n",
        "(3) Compare the two sentences. Print out a list of words that occur in both sentences.\n",
        "\n",
        "(4) Remove any punctuation from the sentence and print it back out. It should remove at least the following characters, but it can remove more: period(“.”), comma (“,”), semicolon (“;”), and colon (“:”)\n",
        "\n",
        "(5) Count the number of vowels in the sentences. Print out each vowel and the number of times it appears in the sentences, such as: a:2, e:1, i:0, etc"
      ]
    },
    {
      "cell_type": "code",
      "execution_count": null,
      "metadata": {
        "colab": {
          "base_uri": "https://localhost:8080/"
        },
        "id": "Y0oOSlsOS0cq",
        "outputId": "e9af461f-5200-40ce-b47b-44aba8758bdc"
      },
      "outputs": [
        {
          "output_type": "stream",
          "name": "stdout",
          "text": [
            "I texted my friend , she did not reply me.\n",
            "she did not reply him , i think she is busy.\n",
            "['I', 'texted', 'my', 'friend', ',', 'she', 'did', 'not', 'reply', 'me.']\n",
            "['she', 'did', 'not', 'reply', 'him', ',', 'i', 'think', 'she', 'is', 'busy.']\n",
            "['she', 'reply', 'not', 'did', ',']\n",
            "I texted my friend  she did not reply me\n",
            "she did not reply him  i think she is busy\n",
            "{'a': 0, 'e': 6, 'i': 2, 'o': 1, 'u': 0}\n",
            "{'a': 0, 'e': 9, 'i': 7, 'o': 2, 'u': 1}\n"
          ]
        }
      ],
      "source": [
        "sentence_1=input()\n",
        "sentence_2=input()\n",
        "list_1=sentence_1.split()\n",
        "print(list_1)\n",
        "list_2=sentence_2.split()\n",
        "print(list_2)\n",
        "print(list(set(list_1).intersection(list_2)))\n",
        "p_list=[',','.']\n",
        "for i in sentence_1:\n",
        "  if i in p_list:\n",
        "    sentence_1=sentence_1.replace(i,'')\n",
        "print(sentence_1)\n",
        "for i in sentence_2:\n",
        "  if i in p_list:\n",
        "    sentence_2=sentence_2.replace(i,'')\n",
        "print(sentence_2)\n",
        "vowel = ['a','e','i','o','u']\n",
        "count={}.fromkeys(vowel,0)\n",
        "for letter in sentence_1:\n",
        "  if letter in vowel:\n",
        "    count[letter] += 1\n",
        "print(count)\n",
        "for letter in sentence_2:\n",
        "  if letter in vowel:\n",
        "    count[letter] += 1\n",
        "print(count)\n",
        "\n",
        "\n"
      ]
    },
    {
      "cell_type": "markdown",
      "metadata": {
        "id": "CmFoI4jDS9nx"
      },
      "source": [
        "# Question 3 \n",
        "\n",
        "(15 points). The formula that describes the volume V of a sphere with radius r is the following:\n",
        "\n",
        "$ V=\\frac{4}{3}\\ast\\ \\pi\\ast\\ r^3 $\n",
        "\n",
        "Write a program to calculate the value of V when r is in the range of 1–10. Output the result in the following format:\n",
        "\n",
        "\tr\tV\n",
        "\t1\t…\n",
        "\t2\t…\n",
        "\t3\t…\n"
      ]
    },
    {
      "cell_type": "code",
      "execution_count": 2,
      "metadata": {
        "colab": {
          "base_uri": "https://localhost:8080/"
        },
        "id": "pEyqeioAT95b",
        "outputId": "49a9c3e3-50fa-4893-c1e3-fea81e6489de"
      },
      "outputs": [
        {
          "output_type": "stream",
          "name": "stdout",
          "text": [
            "radius: 1 volume: 4.1887902047863905\n",
            "radius: 2 volume: 33.510321638291124\n",
            "radius: 3 volume: 113.09733552923254\n",
            "radius: 4 volume: 268.082573106329\n",
            "radius: 5 volume: 523.5987755982989\n",
            "radius: 6 volume: 904.7786842338603\n",
            "radius: 7 volume: 1436.7550402417319\n",
            "radius: 8 volume: 2144.660584850632\n",
            "radius: 9 volume: 3053.6280592892786\n",
            "radius: 10 volume: 4188.790204786391\n"
          ]
        }
      ],
      "source": [
        "import math\n",
        "def sphere_volume(r):\n",
        "  return (4/3)*math.pi*(r**3)\n",
        "for r in range(1,11):\n",
        "  print(\"radius:\",r,\"volume:\",sphere_volume(r))  \n",
        "\n"
      ]
    },
    {
      "cell_type": "markdown",
      "metadata": {
        "id": "z3tBE7E-Xn5X"
      },
      "source": [
        "# Question 4\n",
        "\n",
        "(40 points). In the field of Data Science, data is often formatted as a comma-delimited (CSV) file, where each line in a file corresponds to a field's value. Refer to Chapter 9 (p. 106) for more information on comma-delimited files. To answer this question, you will need to download the file [Assignment1_denton_housing.csv](https://raw.githubusercontent.com/unt-iialab/info5731-spring2022/main/assignments/Assignment1_denton_housing.csv) included with this assignment. The file [Assignment1_denton_housing.csv](https://raw.githubusercontent.com/unt-iialab/info5731-spring2022/main/assignments/Assignment1_denton_housing.csv) contains statistics about housing in the city of Denton from 2008 to 2014. Write a program to implement the following questions.\n",
        "\n",
        "(1) (10 pts) Calculate the difference in the number of Occupied Housing Units from year to year and print it. The difference must be calculated for the consecutive years such as 2008-2009, 2009-2010 etc. Finally, print the values in the ascending order.\n",
        "\n",
        "(2) (10 pts) For all the years, calculate the percentage of housing units which are vacant an occupied. Print the results in the following format:\n",
        "\n",
        "Year Vacant Housing Units Occupied Housing Units\n",
        "\n",
        "    2008  30%   70%                          \n",
        "\t2009 ----- -----\n",
        "\t2010 ----- -----\n",
        "    2011 ----- -----\n",
        "\t2012 ----- -----\n",
        "    2013 ----- -----\n",
        "\t2014 ----- -----\n",
        "  \n",
        "  \n",
        "\n",
        "(3) (10 pts) Calculate and print the valued and years in which the highest number of housing units were vacant and occupied. Print the results in the following format:  \n",
        "\n",
        "                              Year\tValue\n",
        "\tVacant Housing Units\t  -----   -----\n",
        "\tOccupied Housing Units\t-----   -----\n",
        "\n",
        "(4) (10 pts) Calculate the harmonic mean of the total housing units and print it out. You can find the information about harmonic mean here: https://ncalculators.com/statistics/harmonic-mean-calculator.htm"
      ]
    },
    {
      "cell_type": "code",
      "execution_count": 3,
      "metadata": {
        "colab": {
          "base_uri": "https://localhost:8080/"
        },
        "id": "lqGYuHBhcsRH",
        "outputId": "e84324d2-bf9f-4b69-8482-576e2d591ec4"
      },
      "outputs": [
        {
          "output_type": "stream",
          "name": "stdout",
          "text": [
            "Mounted at /content/drive\n"
          ]
        }
      ],
      "source": [
        "from google.colab import drive\n",
        "drive.mount('/content/drive')\n",
        "path= '/content/drive/My Drive/Assignment1_denton_housing.csv'\n",
        "\n",
        "\n"
      ]
    },
    {
      "cell_type": "code",
      "source": [
        "import pandas as pd\n",
        "data=pd.read_csv('/content/drive/My Drive/Assignment1_denton_housing.csv')\n",
        "data"
      ],
      "metadata": {
        "colab": {
          "base_uri": "https://localhost:8080/",
          "height": 1000
        },
        "id": "0Zzi9zsLiWwr",
        "outputId": "38eb5c28-37d3-4530-c2b2-9588dbd4096e"
      },
      "execution_count": 4,
      "outputs": [
        {
          "output_type": "execute_result",
          "data": {
            "text/plain": [
              "    year             title_field  value\n",
              "0   2014     Total Housing Units  49109\n",
              "1   2014    Vacant Housing Units   2814\n",
              "2   2014  Occupied Housing Units  46295\n",
              "3   2013     Total Housing Units  47888\n",
              "4   2013    Vacant Housing Units   4215\n",
              "5   2013  Occupied Housing Units  43673\n",
              "6   2012     Total Housing Units  45121\n",
              "7   2012    Vacant Housing Units   3013\n",
              "8   2012  Occupied Housing Units  42108\n",
              "9   2011     Total Housing Units  44917\n",
              "10  2011    Vacant Housing Units   4213\n",
              "11  2011  Occupied Housing Units  40704\n",
              "12  2010     Total Housing Units  44642\n",
              "13  2010    Vacant Housing Units   3635\n",
              "14  2010  Occupied Housing Units  41007\n",
              "15  2009     Total Housing Units  39499\n",
              "16  2009    Vacant Housing Units   3583\n",
              "17  2009  Occupied Housing Units  35916\n",
              "18  2008     Total Housing Units  41194\n",
              "19  2008    Vacant Housing Units   4483\n",
              "20  2008  Occupied Housing Units  36711\n",
              "21  2014          Owner Occupied  21427\n",
              "22  2014         Renter Occupied  24868\n",
              "23  2013          Owner Occupied  20845\n",
              "24  2013         Renter Occupied  22828\n",
              "25  2012          Owner Occupied  20068\n",
              "26  2012         Renter Occupied  22040\n",
              "27  2011          Owner Occupied  18478\n",
              "28  2011         Renter Occupied  22226\n",
              "29  2010          Owner Occupied  18867\n",
              "30  2010         Renter Occupied  22140\n",
              "31  2009          Owner Occupied  18057\n",
              "32  2009         Renter Occupied  17859\n",
              "33  2008          Owner Occupied  17340\n",
              "34  2008         Renter Occupied  19371\n",
              "35  2014       Median Gross Rent    905\n",
              "36  2013       Median Gross Rent    887\n",
              "37  2012       Median Gross Rent    842\n",
              "38  2011       Median Gross Rent    821\n",
              "39  2010       Median Gross Rent    780\n",
              "40  2009       Median Gross Rent    769\n",
              "41  2008       Median Gross Rent    768"
            ],
            "text/html": [
              "\n",
              "  <div id=\"df-2721106f-b8df-4717-9c5a-bc1b8476fde8\">\n",
              "    <div class=\"colab-df-container\">\n",
              "      <div>\n",
              "<style scoped>\n",
              "    .dataframe tbody tr th:only-of-type {\n",
              "        vertical-align: middle;\n",
              "    }\n",
              "\n",
              "    .dataframe tbody tr th {\n",
              "        vertical-align: top;\n",
              "    }\n",
              "\n",
              "    .dataframe thead th {\n",
              "        text-align: right;\n",
              "    }\n",
              "</style>\n",
              "<table border=\"1\" class=\"dataframe\">\n",
              "  <thead>\n",
              "    <tr style=\"text-align: right;\">\n",
              "      <th></th>\n",
              "      <th>year</th>\n",
              "      <th>title_field</th>\n",
              "      <th>value</th>\n",
              "    </tr>\n",
              "  </thead>\n",
              "  <tbody>\n",
              "    <tr>\n",
              "      <th>0</th>\n",
              "      <td>2014</td>\n",
              "      <td>Total Housing Units</td>\n",
              "      <td>49109</td>\n",
              "    </tr>\n",
              "    <tr>\n",
              "      <th>1</th>\n",
              "      <td>2014</td>\n",
              "      <td>Vacant Housing Units</td>\n",
              "      <td>2814</td>\n",
              "    </tr>\n",
              "    <tr>\n",
              "      <th>2</th>\n",
              "      <td>2014</td>\n",
              "      <td>Occupied Housing Units</td>\n",
              "      <td>46295</td>\n",
              "    </tr>\n",
              "    <tr>\n",
              "      <th>3</th>\n",
              "      <td>2013</td>\n",
              "      <td>Total Housing Units</td>\n",
              "      <td>47888</td>\n",
              "    </tr>\n",
              "    <tr>\n",
              "      <th>4</th>\n",
              "      <td>2013</td>\n",
              "      <td>Vacant Housing Units</td>\n",
              "      <td>4215</td>\n",
              "    </tr>\n",
              "    <tr>\n",
              "      <th>5</th>\n",
              "      <td>2013</td>\n",
              "      <td>Occupied Housing Units</td>\n",
              "      <td>43673</td>\n",
              "    </tr>\n",
              "    <tr>\n",
              "      <th>6</th>\n",
              "      <td>2012</td>\n",
              "      <td>Total Housing Units</td>\n",
              "      <td>45121</td>\n",
              "    </tr>\n",
              "    <tr>\n",
              "      <th>7</th>\n",
              "      <td>2012</td>\n",
              "      <td>Vacant Housing Units</td>\n",
              "      <td>3013</td>\n",
              "    </tr>\n",
              "    <tr>\n",
              "      <th>8</th>\n",
              "      <td>2012</td>\n",
              "      <td>Occupied Housing Units</td>\n",
              "      <td>42108</td>\n",
              "    </tr>\n",
              "    <tr>\n",
              "      <th>9</th>\n",
              "      <td>2011</td>\n",
              "      <td>Total Housing Units</td>\n",
              "      <td>44917</td>\n",
              "    </tr>\n",
              "    <tr>\n",
              "      <th>10</th>\n",
              "      <td>2011</td>\n",
              "      <td>Vacant Housing Units</td>\n",
              "      <td>4213</td>\n",
              "    </tr>\n",
              "    <tr>\n",
              "      <th>11</th>\n",
              "      <td>2011</td>\n",
              "      <td>Occupied Housing Units</td>\n",
              "      <td>40704</td>\n",
              "    </tr>\n",
              "    <tr>\n",
              "      <th>12</th>\n",
              "      <td>2010</td>\n",
              "      <td>Total Housing Units</td>\n",
              "      <td>44642</td>\n",
              "    </tr>\n",
              "    <tr>\n",
              "      <th>13</th>\n",
              "      <td>2010</td>\n",
              "      <td>Vacant Housing Units</td>\n",
              "      <td>3635</td>\n",
              "    </tr>\n",
              "    <tr>\n",
              "      <th>14</th>\n",
              "      <td>2010</td>\n",
              "      <td>Occupied Housing Units</td>\n",
              "      <td>41007</td>\n",
              "    </tr>\n",
              "    <tr>\n",
              "      <th>15</th>\n",
              "      <td>2009</td>\n",
              "      <td>Total Housing Units</td>\n",
              "      <td>39499</td>\n",
              "    </tr>\n",
              "    <tr>\n",
              "      <th>16</th>\n",
              "      <td>2009</td>\n",
              "      <td>Vacant Housing Units</td>\n",
              "      <td>3583</td>\n",
              "    </tr>\n",
              "    <tr>\n",
              "      <th>17</th>\n",
              "      <td>2009</td>\n",
              "      <td>Occupied Housing Units</td>\n",
              "      <td>35916</td>\n",
              "    </tr>\n",
              "    <tr>\n",
              "      <th>18</th>\n",
              "      <td>2008</td>\n",
              "      <td>Total Housing Units</td>\n",
              "      <td>41194</td>\n",
              "    </tr>\n",
              "    <tr>\n",
              "      <th>19</th>\n",
              "      <td>2008</td>\n",
              "      <td>Vacant Housing Units</td>\n",
              "      <td>4483</td>\n",
              "    </tr>\n",
              "    <tr>\n",
              "      <th>20</th>\n",
              "      <td>2008</td>\n",
              "      <td>Occupied Housing Units</td>\n",
              "      <td>36711</td>\n",
              "    </tr>\n",
              "    <tr>\n",
              "      <th>21</th>\n",
              "      <td>2014</td>\n",
              "      <td>Owner Occupied</td>\n",
              "      <td>21427</td>\n",
              "    </tr>\n",
              "    <tr>\n",
              "      <th>22</th>\n",
              "      <td>2014</td>\n",
              "      <td>Renter Occupied</td>\n",
              "      <td>24868</td>\n",
              "    </tr>\n",
              "    <tr>\n",
              "      <th>23</th>\n",
              "      <td>2013</td>\n",
              "      <td>Owner Occupied</td>\n",
              "      <td>20845</td>\n",
              "    </tr>\n",
              "    <tr>\n",
              "      <th>24</th>\n",
              "      <td>2013</td>\n",
              "      <td>Renter Occupied</td>\n",
              "      <td>22828</td>\n",
              "    </tr>\n",
              "    <tr>\n",
              "      <th>25</th>\n",
              "      <td>2012</td>\n",
              "      <td>Owner Occupied</td>\n",
              "      <td>20068</td>\n",
              "    </tr>\n",
              "    <tr>\n",
              "      <th>26</th>\n",
              "      <td>2012</td>\n",
              "      <td>Renter Occupied</td>\n",
              "      <td>22040</td>\n",
              "    </tr>\n",
              "    <tr>\n",
              "      <th>27</th>\n",
              "      <td>2011</td>\n",
              "      <td>Owner Occupied</td>\n",
              "      <td>18478</td>\n",
              "    </tr>\n",
              "    <tr>\n",
              "      <th>28</th>\n",
              "      <td>2011</td>\n",
              "      <td>Renter Occupied</td>\n",
              "      <td>22226</td>\n",
              "    </tr>\n",
              "    <tr>\n",
              "      <th>29</th>\n",
              "      <td>2010</td>\n",
              "      <td>Owner Occupied</td>\n",
              "      <td>18867</td>\n",
              "    </tr>\n",
              "    <tr>\n",
              "      <th>30</th>\n",
              "      <td>2010</td>\n",
              "      <td>Renter Occupied</td>\n",
              "      <td>22140</td>\n",
              "    </tr>\n",
              "    <tr>\n",
              "      <th>31</th>\n",
              "      <td>2009</td>\n",
              "      <td>Owner Occupied</td>\n",
              "      <td>18057</td>\n",
              "    </tr>\n",
              "    <tr>\n",
              "      <th>32</th>\n",
              "      <td>2009</td>\n",
              "      <td>Renter Occupied</td>\n",
              "      <td>17859</td>\n",
              "    </tr>\n",
              "    <tr>\n",
              "      <th>33</th>\n",
              "      <td>2008</td>\n",
              "      <td>Owner Occupied</td>\n",
              "      <td>17340</td>\n",
              "    </tr>\n",
              "    <tr>\n",
              "      <th>34</th>\n",
              "      <td>2008</td>\n",
              "      <td>Renter Occupied</td>\n",
              "      <td>19371</td>\n",
              "    </tr>\n",
              "    <tr>\n",
              "      <th>35</th>\n",
              "      <td>2014</td>\n",
              "      <td>Median Gross Rent</td>\n",
              "      <td>905</td>\n",
              "    </tr>\n",
              "    <tr>\n",
              "      <th>36</th>\n",
              "      <td>2013</td>\n",
              "      <td>Median Gross Rent</td>\n",
              "      <td>887</td>\n",
              "    </tr>\n",
              "    <tr>\n",
              "      <th>37</th>\n",
              "      <td>2012</td>\n",
              "      <td>Median Gross Rent</td>\n",
              "      <td>842</td>\n",
              "    </tr>\n",
              "    <tr>\n",
              "      <th>38</th>\n",
              "      <td>2011</td>\n",
              "      <td>Median Gross Rent</td>\n",
              "      <td>821</td>\n",
              "    </tr>\n",
              "    <tr>\n",
              "      <th>39</th>\n",
              "      <td>2010</td>\n",
              "      <td>Median Gross Rent</td>\n",
              "      <td>780</td>\n",
              "    </tr>\n",
              "    <tr>\n",
              "      <th>40</th>\n",
              "      <td>2009</td>\n",
              "      <td>Median Gross Rent</td>\n",
              "      <td>769</td>\n",
              "    </tr>\n",
              "    <tr>\n",
              "      <th>41</th>\n",
              "      <td>2008</td>\n",
              "      <td>Median Gross Rent</td>\n",
              "      <td>768</td>\n",
              "    </tr>\n",
              "  </tbody>\n",
              "</table>\n",
              "</div>\n",
              "      <button class=\"colab-df-convert\" onclick=\"convertToInteractive('df-2721106f-b8df-4717-9c5a-bc1b8476fde8')\"\n",
              "              title=\"Convert this dataframe to an interactive table.\"\n",
              "              style=\"display:none;\">\n",
              "        \n",
              "  <svg xmlns=\"http://www.w3.org/2000/svg\" height=\"24px\"viewBox=\"0 0 24 24\"\n",
              "       width=\"24px\">\n",
              "    <path d=\"M0 0h24v24H0V0z\" fill=\"none\"/>\n",
              "    <path d=\"M18.56 5.44l.94 2.06.94-2.06 2.06-.94-2.06-.94-.94-2.06-.94 2.06-2.06.94zm-11 1L8.5 8.5l.94-2.06 2.06-.94-2.06-.94L8.5 2.5l-.94 2.06-2.06.94zm10 10l.94 2.06.94-2.06 2.06-.94-2.06-.94-.94-2.06-.94 2.06-2.06.94z\"/><path d=\"M17.41 7.96l-1.37-1.37c-.4-.4-.92-.59-1.43-.59-.52 0-1.04.2-1.43.59L10.3 9.45l-7.72 7.72c-.78.78-.78 2.05 0 2.83L4 21.41c.39.39.9.59 1.41.59.51 0 1.02-.2 1.41-.59l7.78-7.78 2.81-2.81c.8-.78.8-2.07 0-2.86zM5.41 20L4 18.59l7.72-7.72 1.47 1.35L5.41 20z\"/>\n",
              "  </svg>\n",
              "      </button>\n",
              "      \n",
              "  <style>\n",
              "    .colab-df-container {\n",
              "      display:flex;\n",
              "      flex-wrap:wrap;\n",
              "      gap: 12px;\n",
              "    }\n",
              "\n",
              "    .colab-df-convert {\n",
              "      background-color: #E8F0FE;\n",
              "      border: none;\n",
              "      border-radius: 50%;\n",
              "      cursor: pointer;\n",
              "      display: none;\n",
              "      fill: #1967D2;\n",
              "      height: 32px;\n",
              "      padding: 0 0 0 0;\n",
              "      width: 32px;\n",
              "    }\n",
              "\n",
              "    .colab-df-convert:hover {\n",
              "      background-color: #E2EBFA;\n",
              "      box-shadow: 0px 1px 2px rgba(60, 64, 67, 0.3), 0px 1px 3px 1px rgba(60, 64, 67, 0.15);\n",
              "      fill: #174EA6;\n",
              "    }\n",
              "\n",
              "    [theme=dark] .colab-df-convert {\n",
              "      background-color: #3B4455;\n",
              "      fill: #D2E3FC;\n",
              "    }\n",
              "\n",
              "    [theme=dark] .colab-df-convert:hover {\n",
              "      background-color: #434B5C;\n",
              "      box-shadow: 0px 1px 3px 1px rgba(0, 0, 0, 0.15);\n",
              "      filter: drop-shadow(0px 1px 2px rgba(0, 0, 0, 0.3));\n",
              "      fill: #FFFFFF;\n",
              "    }\n",
              "  </style>\n",
              "\n",
              "      <script>\n",
              "        const buttonEl =\n",
              "          document.querySelector('#df-2721106f-b8df-4717-9c5a-bc1b8476fde8 button.colab-df-convert');\n",
              "        buttonEl.style.display =\n",
              "          google.colab.kernel.accessAllowed ? 'block' : 'none';\n",
              "\n",
              "        async function convertToInteractive(key) {\n",
              "          const element = document.querySelector('#df-2721106f-b8df-4717-9c5a-bc1b8476fde8');\n",
              "          const dataTable =\n",
              "            await google.colab.kernel.invokeFunction('convertToInteractive',\n",
              "                                                     [key], {});\n",
              "          if (!dataTable) return;\n",
              "\n",
              "          const docLinkHtml = 'Like what you see? Visit the ' +\n",
              "            '<a target=\"_blank\" href=https://colab.research.google.com/notebooks/data_table.ipynb>data table notebook</a>'\n",
              "            + ' to learn more about interactive tables.';\n",
              "          element.innerHTML = '';\n",
              "          dataTable['output_type'] = 'display_data';\n",
              "          await google.colab.output.renderOutput(dataTable, element);\n",
              "          const docLink = document.createElement('div');\n",
              "          docLink.innerHTML = docLinkHtml;\n",
              "          element.appendChild(docLink);\n",
              "        }\n",
              "      </script>\n",
              "    </div>\n",
              "  </div>\n",
              "  "
            ]
          },
          "metadata": {},
          "execution_count": 4
        }
      ]
    },
    {
      "cell_type": "code",
      "source": [
        "a={}\n",
        "for j in sorted(list(set(data['year'])))[:-1]:\n",
        "  p = 0\n",
        "  n = 0\n",
        "  for col, row in data.iterrows():\n",
        "    if row['year'] == j and row['title_field'] == 'Occupied Housing Units':\n",
        "      p += row['value']\n",
        "    if row['year'] == j+1 and row['title_field'] == 'Occupied Housing Units':\n",
        "      n += row['value']\n",
        "  a[str(j)+'-'+str(j+1)] = abs(p - n)\n",
        "  sorted_values=sorted(a.values())\n",
        "sorted_dict={}\n",
        "for i in sorted_values:\n",
        "  for k in a.keys():\n",
        "    if(a[k]==i):\n",
        "      sorted_dict[k]=a[k]\n",
        "for key,value in sorted_dict.items():\n",
        "  print(key,\":\",value)\n"
      ],
      "metadata": {
        "colab": {
          "base_uri": "https://localhost:8080/"
        },
        "id": "2tj9djsCjOtF",
        "outputId": "4cee8281-df49-4e65-ffb1-7a5fb38d6474"
      },
      "execution_count": 5,
      "outputs": [
        {
          "output_type": "stream",
          "name": "stdout",
          "text": [
            "2010-2011 : 303\n",
            "2008-2009 : 795\n",
            "2011-2012 : 1404\n",
            "2012-2013 : 1565\n",
            "2013-2014 : 2622\n",
            "2009-2010 : 5091\n"
          ]
        }
      ]
    },
    {
      "cell_type": "code",
      "source": [
        "for j in sorted(list(set(data['year']))):\n",
        "  t = 0\n",
        "  h= 0\n",
        "  v = 0\n",
        "  year = 0\n",
        "  for col, row in data.iterrows():\n",
        "    if row['year'] == j and row['title_field'] == 'Total Housing Units' :\n",
        "      year = row['year']\n",
        "      t = row['value']\n",
        "    if row['year'] == j and  row['title_field'] == 'Occupied Housing Units' :\n",
        "      h = row['value']\n",
        "    if row['year'] == j and  row['title_field'] == 'Vacant Housing Units' :\n",
        "      v = row['value']\n",
        "  h_u = int((h / t) * 100)\n",
        "  h_v = int((v / t) * 100)\n",
        "  print(year,\" \",str(h_v)+'%',\" \",str(h_u)+'%')"
      ],
      "metadata": {
        "colab": {
          "base_uri": "https://localhost:8080/"
        },
        "id": "yPSHImEamyfE",
        "outputId": "24de3016-c413-4a26-f840-632c17e807fb"
      },
      "execution_count": 6,
      "outputs": [
        {
          "output_type": "stream",
          "name": "stdout",
          "text": [
            "2008   10%   89%\n",
            "2009   9%   90%\n",
            "2010   8%   91%\n",
            "2011   9%   90%\n",
            "2012   6%   93%\n",
            "2013   8%   91%\n",
            "2014   5%   94%\n"
          ]
        }
      ]
    },
    {
      "cell_type": "code",
      "source": [
        "max_n=0\n",
        "max_v=0\n",
        "year_n=0\n",
        "year_v=0\n",
        "for j in sorted(list(set(data['year']))):\n",
        " for col,row in data.iterrows():\n",
        "    if row['year'] == j and  row['title_field'] == 'Occupied Housing Units' :\n",
        "      if row['value']>max_n:\n",
        "        max_n=row['value']\n",
        "        year_n=row['year']\n",
        "    if row['year'] == j and  row['title_field'] == 'Vacant Housing Units' :\n",
        "      if row['value']>max_v:\n",
        "        max_v=row['value']\n",
        "        year_v=row['year']"
      ],
      "metadata": {
        "id": "twtRX_n0ndUW"
      },
      "execution_count": 7,
      "outputs": []
    },
    {
      "cell_type": "code",
      "source": [
        "total_housing = list()\n",
        "for col, row in data.iterrows():\n",
        "  if row['title_field'] == 'Total Housing Units':\n",
        "    total_housing.append(row['value'])"
      ],
      "metadata": {
        "id": "F2E5fGjqnqEd"
      },
      "execution_count": 8,
      "outputs": []
    },
    {
      "cell_type": "code",
      "source": [
        "total = len(total_housing)\n",
        "v = 0\n",
        "for i in total_housing:\n",
        "  v += (1/i)\n",
        "print(total/v)"
      ],
      "metadata": {
        "colab": {
          "base_uri": "https://localhost:8080/"
        },
        "id": "JZb9RVXnnxYJ",
        "outputId": "6a0243e0-6fd5-4b16-f851-0d5481e19195"
      },
      "execution_count": 9,
      "outputs": [
        {
          "output_type": "stream",
          "name": "stdout",
          "text": [
            "44398.28543969185\n"
          ]
        }
      ]
    }
  ],
  "metadata": {
    "colab": {
      "provenance": []
    },
    "kernelspec": {
      "display_name": "Python 3 (ipykernel)",
      "language": "python",
      "name": "python3"
    },
    "language_info": {
      "codemirror_mode": {
        "name": "ipython",
        "version": 3
      },
      "file_extension": ".py",
      "mimetype": "text/x-python",
      "name": "python",
      "nbconvert_exporter": "python",
      "pygments_lexer": "ipython3",
      "version": "3.9.12"
    }
  },
  "nbformat": 4,
  "nbformat_minor": 0
}